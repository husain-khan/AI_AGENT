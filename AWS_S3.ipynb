import boto3
import logging
import time

# Enable debug logging for boto3 and botocore
logging.basicConfig(level=logging.DEBUG)
logging.getLogger('boto3').setLevel(logging.DEBUG)
logging.getLogger('botocore').setLevel(logging.DEBUG)

# Explicitly specify the AWS credentials (access keys from the newly created user)
sts_client = boto3.client(
    "sts",
    aws_access_key_id="",  # Replace with the new user's Access Key ID
    aws_secret_access_key="",  # Replace with the new user's Secret Access Key
    region_name="us--2"  # Replace with the correct region for your resources
)

# Assume the IAM role you created
role_arn = "arn:aws:iam::302263043357:role/Company"  # Replace with your actual role ARN
response = sts_client.assume_role(
    RoleArn=role_arn,
    RoleSessionName="TestSession",  # A unique session name for tracking
    DurationSeconds=3600  # Optional: You can specify the session duration
)

# Get the temporary credentials from the response
credentials = response['Credentials']
aws_access_key_id = credentials['AccessKeyId']
aws_secret_access_key = credentials['SecretAccessKey']
aws_session_token = credentials['SessionToken']

# Create S3 client using temporary credentials
s3 = boto3.client(
    "s3",
    aws_access_key_id=aws_access_key_id,
    aws_secret_access_key=aws_secret_access_key,
    aws_session_token=aws_session_token,
    region_name="us-east-1",
    endpoint_url="https://s3.amazonaws.com"  # Explicitly set the endpoint for us-east-1
)

# Debug: Print the S3 client region
print(f"S3 client region: {s3.meta.region_name}")

# Generate a unique bucket name using a timestamp
bucket_name = f"my-unique-bucket-name-12345-{int(time.time())}"
print(f"Generated bucket name: {bucket_name}")

# Create the S3 bucket (do not specify the LocationConstraint for us-east-1)
try:
    s3.create_bucket(
        Bucket=bucket_name
        # No LocationConstraint is needed for us-east-1
    )
    print(f"S3 Bucket '{bucket_name}' created successfully!")
except Exception as e:
    print(f"Error occurred: {e}")
