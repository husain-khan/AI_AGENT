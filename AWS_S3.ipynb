import boto3
import logging
import time

# Enable debug logging for boto3 and botocore. This will print detailed logs of all AWS API calls.
logging.basicConfig(level=logging.DEBUG)
logging.getLogger('boto3').setLevel(logging.DEBUG)
logging.getLogger('botocore').setLevel(logging.DEBUG)

# AWS credentials explicitly specified.
# **IMPORTANT:**  NEVER hardcode credentials in production code.  Use IAM roles or environment variables.
# Replace with your actual AWS Access Key ID and Secret Access Key for the IAM user with STS permissions.
AWS_ACCESS_KEY_ID = ""  # Your Access Key ID
AWS_SECRET_ACCESS_KEY = "" # Your Secret Access Key

# Define AWS Region. Double-check this is correct for your resources.
AWS_REGION = "us-east-2"  # Example region.  Change this to the appropriate AWS Region.

# Debug: Print the AWS Region
print(f"AWS Region: {AWS_REGION}")

# Initialize the STS client.  STS is the Security Token Service.
# It's used to assume IAM roles and get temporary credentials.
sts_client = boto3.client(
    "sts",
    aws_access_key_id=AWS_ACCESS_KEY_ID,
    aws_secret_access_key=AWS_SECRET_ACCESS_KEY,
    region_name=AWS_REGION
)

# IAM role ARN.  This is the ARN of the role you want to assume.
# Replace with your actual IAM Role ARN.
ROLE_ARN = "arn:aws:iam::302263043357:role/Company"  # Example Role ARN

# Debug: Print the IAM Role ARN
print(f"IAM Role ARN: {ROLE_ARN}")

# Assume the IAM role using STS.  This retrieves temporary credentials.
try:
    response = sts_client.assume_role(
        RoleArn=ROLE_ARN,
        RoleSessionName="TestSession",  # A unique session name. Helps track actions.
        DurationSeconds=3600  # Session duration (1 hour).  Can be adjusted.
    )
    logging.debug(f"AssumeRole Response: {response}") # Debug: Print the full response.
except Exception as e:
    print(f"Error assuming role: {e}")
    exit()  # Exit if we can't assume the role.  No point continuing.


# Extract temporary credentials from the STS response.
credentials = response['Credentials']
aws_access_key_id = credentials['AccessKeyId']
aws_secret_access_key = credentials['SecretAccessKey']
aws_session_token = credentials['SessionToken']

# Debug: Print the temporary credentials (for debugging purposes only - DO NOT LOG IN PRODUCTION)
#logging.debug(f"Temporary Access Key ID: {aws_access_key_id}") #  Remove this for production.  Too sensitive to log.
#logging.debug(f"Temporary Secret Access Key: {aws_secret_access_key}")  # Remove this for production. Too sensitive to log.
#logging.debug(f"Temporary Session Token: {aws_session_token}") # Remove this for production. Too sensitive to log.


# Create S3 client using the temporary credentials obtained from STS.
# S3 is the Simple Storage Service, used for storing objects (files).
s3 = boto3.client(
    "s3",
    aws_access_key_id=aws_access_key_id,
    aws_secret_access_key=aws_secret_access_key,
    aws_session_token=aws_session_token,
    region_name="us-east-1", #  Critical:  Use the correct S3 region.  Different than the STS Region is possible.
    endpoint_url="https://s3.amazonaws.com"  # Explicitly set the endpoint.  Helpful in some environments.
)

# Debug: Print the S3 client region.  Confirm it's what we expect.
print(f"S3 client region: {s3.meta.region_name}")

# Generate a unique S3 bucket name.  Bucket names must be globally unique.
# Using a timestamp helps ensure uniqueness, especially for testing.
bucket_name = f"my-unique-bucket-name-12345-{int(time.time())}"
print(f"Generated bucket name: {bucket_name}")

# Create the S3 bucket.  Buckets are containers for objects (files) in S3.
try:
    s3.create_bucket(
        Bucket=bucket_name
        # LocationConstraint isn't needed for us-east-1, and will cause an error if specified.
    )
    print(f"S3 Bucket '{bucket_name}' created successfully!")
except Exception as e:
    print(f"Error occurred while creating bucket: {e}")
